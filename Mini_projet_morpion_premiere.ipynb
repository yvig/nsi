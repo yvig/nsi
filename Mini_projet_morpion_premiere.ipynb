{
  "nbformat": 4,
  "nbformat_minor": 0,
  "metadata": {
    "colab": {
      "name": "Mini_projet_morpion_premiere.ipynb",
      "provenance": [],
      "collapsed_sections": [],
      "include_colab_link": true
    },
    "kernelspec": {
      "display_name": "Python 3",
      "language": "python",
      "name": "python3"
    },
    "language_info": {
      "codemirror_mode": {
        "name": "ipython",
        "version": 3
      },
      "file_extension": ".py",
      "mimetype": "text/x-python",
      "name": "python",
      "nbconvert_exporter": "python",
      "pygments_lexer": "ipython3",
      "version": "3.7.6"
    }
  },
  "cells": [
    {
      "cell_type": "markdown",
      "metadata": {
        "id": "view-in-github",
        "colab_type": "text"
      },
      "source": [
        "<a href=\"https://colab.research.google.com/github/yvig/nsi/blob/master/Mini_projet_morpion_premiere.ipynb\" target=\"_parent\"><img src=\"https://colab.research.google.com/assets/colab-badge.svg\" alt=\"Open In Colab\"/></a>"
      ]
    },
    {
      "cell_type": "markdown",
      "metadata": {
        "id": "cfUv9ZgIe0Np"
      },
      "source": [
        "# Mini-projet  : le Morpion\n",
        "\n"
      ]
    },
    {
      "cell_type": "markdown",
      "metadata": {
        "id": "hQ-UjhFkfibC"
      },
      "source": [
        "## **1. Introduction**\n",
        "\n",
        "Le but de ce TP est ici de créer le jeu du Morpion en Python, avec un simple affichage en console.\n",
        "\n",
        "\n",
        "**Rappel des règles du morpion**\n",
        "\n",
        "![Texte alternatif…](https://upload.wikimedia.org/wikipedia/commons/3/33/Tictactoe1.gif)\n",
        "\n",
        "Deux joueurs s'affrontent. Ils doivent remplir chacun à leur tour une case de la grille avec le symbole qui leur est attribué : O ou X. Le gagnant est celui qui arrive à aligner trois symboles identiques, horizontalement, verticalement ou en diagonale. Il est coutume de laisser le joueur jouant X effectuer le premier coup de la partie.\n",
        "\n",
        "Une partie gagnée par le joueur X : \n",
        "\n",
        "![Texte alternatif…](https://upload.wikimedia.org/wikipedia/commons/thumb/1/1b/Tic-tac-toe-game-1.svg/479px-Tic-tac-toe-game-1.svg.png)\n",
        "\n",
        "Une partie nulle : \n",
        "\n",
        "![Texte alternatif…](https://upload.wikimedia.org/wikipedia/commons/d/db/Tic-tac-toe-game-2.png)\n",
        "\n",
        "En raison du nombre de combinaisons limité, l'analyse complète du jeu est facile à réaliser : si les deux joueurs jouent chacun de manière optimale, la partie doit toujours se terminer par un match nul.\n"
      ]
    },
    {
      "cell_type": "markdown",
      "metadata": {
        "id": "2G43G4pfi_B1"
      },
      "source": [
        "Vous pouvez visualiser l'extrait vidéo ci-dessous du film *Wargames*, dans lequel une IA va jouer contre elle même au morpion,  pour arriver à la conclusion qu'il n'y a pas de possibilité de gagner et ainsi sauver le monde de la 3e guerre mondiale ..."
      ]
    },
    {
      "cell_type": "code",
      "metadata": {
        "id": "q1hCmuw8kf2s"
      },
      "source": [
        "# Extrait du film Wargames 1983\n",
        "from IPython.display import YouTubeVideo\n",
        "YouTubeVideo('F7qOV8xonfY')"
      ],
      "execution_count": null,
      "outputs": []
    },
    {
      "cell_type": "markdown",
      "metadata": {
        "id": "qqoFtUJMl-D4"
      },
      "source": [
        "## 2. Le plateau et les joueurs"
      ]
    },
    {
      "cell_type": "code",
      "metadata": {
        "id": "EBBHBjvNZ2hr"
      },
      "source": [
        "plateau = [\n",
        "[\"_\", \"_\", \"_\"],\n",
        "[\"_\", \"_\", \"_\"],\n",
        "[\"_\", \"_\", \"_\"]]"
      ],
      "execution_count": null,
      "outputs": []
    },
    {
      "cell_type": "markdown",
      "metadata": {
        "id": "TTyPnQuSZ2hr"
      },
      "source": [
        "Tester la procédure ci-dessous."
      ]
    },
    {
      "cell_type": "code",
      "metadata": {
        "id": "Ct1HjaLxooKs"
      },
      "source": [
        "def afficher_plateau(plateau):\n",
        "    for i in range(3):\n",
        "        print(\"|\",plateau[i][0],\"|\",plateau[i][1], \"|\",plateau[i][2],\"|\")\n",
        "    print(15*\"~\") # Pour séparer chaque affichage\n"
      ],
      "execution_count": null,
      "outputs": []
    },
    {
      "cell_type": "code",
      "metadata": {
        "id": "kuG0aGzeZ2hs",
        "colab": {
          "base_uri": "https://localhost:8080/"
        },
        "outputId": "421d8edf-9c1d-43d0-a1f6-9126f8f05281"
      },
      "source": [
        "afficher_plateau(plateau)"
      ],
      "execution_count": null,
      "outputs": [
        {
          "output_type": "stream",
          "text": [
            "| _ | _ | _ |\n",
            "| _ | _ | _ |\n",
            "| _ | _ | _ |\n",
            "~~~~~~~~~~~~~~~\n"
          ],
          "name": "stdout"
        }
      ]
    },
    {
      "cell_type": "markdown",
      "metadata": {
        "id": "Rst4M4KAZ2ht"
      },
      "source": [
        "Les joueurs utiliseront les symboles \"X\" et \"O\" (X majuscule et O majuscule)"
      ]
    },
    {
      "cell_type": "code",
      "metadata": {
        "id": "plf7Xw0SZ2ht"
      },
      "source": [
        "plateau_essai = [\n",
        "[\"x\", \"_\", \"_\"],\n",
        "[\"O\", \"_\", \"_\"],\n",
        "[\"_\", \"_\", \"_\"]]"
      ],
      "execution_count": null,
      "outputs": []
    },
    {
      "cell_type": "code",
      "metadata": {
        "id": "l4r9mtj7Z2ht",
        "colab": {
          "base_uri": "https://localhost:8080/"
        },
        "outputId": "81da2eb7-eacb-4497-b146-7f90039f2c74"
      },
      "source": [
        "afficher_plateau(plateau_essai)"
      ],
      "execution_count": null,
      "outputs": [
        {
          "output_type": "stream",
          "text": [
            "| x | _ | _ |\n",
            "| O | _ | _ |\n",
            "| _ | _ | _ |\n",
            "~~~~~~~~~~~~~~~\n"
          ],
          "name": "stdout"
        }
      ]
    },
    {
      "cell_type": "markdown",
      "metadata": {
        "id": "U1xRHr9j84x4"
      },
      "source": [
        "Rappel sur les chaines de caractères :  \n",
        "Tester ci-dessous"
      ]
    },
    {
      "cell_type": "code",
      "metadata": {
        "colab": {
          "base_uri": "https://localhost:8080/"
        },
        "id": "bx2xWqpC9BU8",
        "outputId": "cbf83835-ef93-4dd9-92ad-3de700c31406"
      },
      "source": [
        "choix = \"1,2\"\n",
        "print(choix[0])\n",
        "print(choix[2])\n",
        "print(type(choix[0]))\n",
        "print(int(choix[0])) # evidemment de type int\n"
      ],
      "execution_count": null,
      "outputs": [
        {
          "output_type": "stream",
          "text": [
            "1\n",
            "2\n",
            "<class 'str'>\n",
            "1\n"
          ],
          "name": "stdout"
        }
      ]
    },
    {
      "cell_type": "markdown",
      "metadata": {
        "id": "mFtAVPHCZ2hu"
      },
      "source": [
        "## 3. La saisie et le déroulement du jeu"
      ]
    },
    {
      "cell_type": "markdown",
      "metadata": {
        "id": "gpbDjqL0Z2hu"
      },
      "source": [
        "- Le joueur saisit **obligatoirement** `i,j` pour jouer à la ligne i et à la colonne j.  \n",
        "Pour jouer sur la 1ère ligne, deuxième colonne, il faut donc saisir en une seule fois la chaîne de caractères `1,2`.  \n",
        "- Le joueur joue les \"X\" contre l'ordinateur qui joue les \"O\".  \n",
        "- Le joueur commence.   \n",
        "- La stratégie de l'ordinateur est la suivante : il joue au hasard sur une case non occupée.  \n",
        "- Si le joueur veut jouer sur une case occupée, un message lui indique que la case est occupée, et qu'il doit faire une autre saisie.  \n",
        "- A chaque fois que le joueur joue, ou que l'ordinateur joue, le plateau complété doit être affiché en console. \n",
        "- La partie s'arrête lorsqu'un joueur a gagné, ou si toutes les cases ont été remplies.  \n",
        "- A la fin de la partie, un message doit indiquer le gagnant, ou \"partie nulle\".\n"
      ]
    },
    {
      "cell_type": "markdown",
      "metadata": {
        "id": "fwHHPtMzZ2hu"
      },
      "source": [
        "## 4. Votre travail"
      ]
    },
    {
      "cell_type": "markdown",
      "metadata": {
        "id": "GGUjqpZWZ2hu"
      },
      "source": [
        "Vous devez écrire le script de ce jeu.  \n",
        "Votre script sera structuré avec beaucoup de fonctions (par exemple `saisie_case`, `remplir_plateau`, `verifie_case`, etc...)   \n",
        "Vous utiliserez forcément une fonction `jeu` dont le début est donné.  \n",
        "Vous n'utiliserez pas de variable globale, ni l'instruction `break` .\n",
        "Pour chaque fonction, il y aura sa spécification, et au moins un `assert` pour vérifier son fonctionnement.  \n",
        "Le programme doit être clairement commenté.\n",
        " \n",
        "Ce travail est à réaliser par groupes de 2 ou 3.  \n",
        "Vous rendrez le fichier Python dans le devoir prévu sur Classroom, avant la date limite.\n"
      ]
    },
    {
      "cell_type": "markdown",
      "metadata": {
        "id": "fB96Cp1JBIQt"
      },
      "source": [
        "**Vous devez reprendre le code ci-dessous, et le compléter.**"
      ]
    },
    {
      "cell_type": "code",
      "metadata": {
        "id": "e3DVnPnTAjYV"
      },
      "source": [
        "def afficher_plateau(plateau):\n",
        "    \"\"\"\n",
        "    Cette procédure affiche le plateau en console\n",
        "    \"\"\"\n",
        "    for i in range(3):\n",
        "        print(\"|\",plateau[i][0],\"|\",plateau[i][1], \"|\",plateau[i][2],\"|\")\n",
        "    print(15*\"~\") # Pour séparer chaque affichage\n",
        "\n",
        "# Votre code ci-dessous (autres fonctions etc) ...\n",
        "# ...\n",
        "\n",
        "\n",
        "\n",
        "\n",
        "def jeu():\n",
        "    \"\"\"\n",
        "    Cette fonction est appelée pour lancer le jeu\n",
        "    \"\"\"\n",
        "\n",
        "    plateau = [\n",
        "    [\"_\", \"_\", \"_\"],\n",
        "    [\"_\", \"_\", \"_\"],\n",
        "    [\"_\", \"_\", \"_\"]]\n",
        "\n",
        "    # fonction à compléter\n",
        "\n",
        "# Programme principal\n",
        "jeu()"
      ],
      "execution_count": null,
      "outputs": []
    },
    {
      "cell_type": "markdown",
      "metadata": {
        "id": "yn54EFdLZ2hv"
      },
      "source": [
        "## 5. Barème sur 10 points"
      ]
    },
    {
      "cell_type": "markdown",
      "metadata": {
        "id": "8Pa6nxfjZ2hv"
      },
      "source": [
        "- Chaque groupe doit réaliser son propre travail. Je vous rappelle que le plagiat est lourdement sanctionné. Si un programme ressemble trop à un autre (différences minimes de noms de variables, noms de fonctions, typographies, ou commentaires), 5 points seront enlevés au total.  \n",
        "- Il sera appliqué une pénalité de 1 point par jour de retard."
      ]
    },
    {
      "cell_type": "markdown",
      "metadata": {
        "id": "y7luDa7RZ2hv"
      },
      "source": [
        "| Critère     |     sur    | \n",
        "| :------------ | :-------------: | \n",
        "| Le jeu fonctionne comme demandé       |     2     |\n",
        "| Structuré avec des fonctions judicieusement utilisées, respect des consignes     |   2    |\n",
        "|asserts corrects     |   1    |\n",
        "spécifications des fonctions   |   1    |\n",
        "|Réponse à des questions à l'oral     |   4    |\n"
      ]
    },
    {
      "cell_type": "markdown",
      "metadata": {
        "id": "t3iN6huJZ2hv"
      },
      "source": [
        "Auteurs : Mireille COILHAC  et Jean-Louis THIROT (introduction)\n",
        "<a rel=\"license\" href=\"http://creativecommons.org/licenses/by-nc-sa/4.0/\"><img alt=\"Creative Commons License\" style=\"border-width:0\" src=\"https://i.creativecommons.org/l/by-nc-sa/4.0/88x31.png\" /></a><br />This work is licensed under a <a rel=\"license\" href=\"http://creativecommons.org/licenses/by-nc-sa/4.0/\">Creative Commons Attribution-NonCommercial-ShareAlike 4.0 International License</a>.\n"
      ]
    }
  ]
}