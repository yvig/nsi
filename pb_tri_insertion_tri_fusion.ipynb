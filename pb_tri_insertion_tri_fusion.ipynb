{
  "nbformat": 4,
  "nbformat_minor": 0,
  "metadata": {
    "colab": {
      "name": "pb_tri_insertion_tri_fusion.ipynb",
      "provenance": [],
      "collapsed_sections": [],
      "include_colab_link": true
    },
    "kernelspec": {
      "name": "python3",
      "display_name": "Python 3"
    }
  },
  "cells": [
    {
      "cell_type": "markdown",
      "metadata": {
        "id": "view-in-github",
        "colab_type": "text"
      },
      "source": [
        "<a href=\"https://colab.research.google.com/github/yvig/nsi/blob/master/pb_tri_insertion_tri_fusion.ipynb\" target=\"_parent\"><img src=\"https://colab.research.google.com/assets/colab-badge.svg\" alt=\"Open In Colab\"/></a>"
      ]
    },
    {
      "cell_type": "markdown",
      "metadata": {
        "id": "4A4UqZs-b-oh"
      },
      "source": [
        "#Temps d'exécution du tri par insertion et du tri fusion"
      ]
    },
    {
      "cell_type": "markdown",
      "metadata": {
        "id": "bPVyt1OxcGxA"
      },
      "source": [
        "Le code suivant me donne un résultat inverse de ce que je pensais...\r\n",
        "Tri insertion en $O(n^2)$ et fusion en $O(n \\text{log}(n))$  \r\n",
        "Le tri fusion semble bien plus lent..."
      ]
    },
    {
      "cell_type": "code",
      "metadata": {
        "colab": {
          "base_uri": "https://localhost:8080/"
        },
        "id": "51DrSdEjcE6C",
        "outputId": "e0e1b04a-1daf-4c5f-a1c9-3745d2015b2d"
      },
      "source": [
        "def fusion(l1,l2):\r\n",
        "    \"\"\"\r\n",
        "    Précondition : l1 et l2 sont deux listes triées\r\n",
        "    Postcondition : la fonction renvoie une liste triée constituée de la fusion \r\n",
        "    de l1 et l2\r\n",
        "    Exemple :\r\n",
        "    fusion([2, 3, 5, 8],[1, 4]) renvoie [1, 2, 3, 5, 8]\r\n",
        "    \"\"\"\r\n",
        "    n1 = len(l1)\r\n",
        "    n2 = len(l2)\r\n",
        "    lst = [] # initialisation de la fusion de l1 et l2 \r\n",
        "    i1 = 0 # indice qui sert à parcourir l1\r\n",
        "    i2 = 0 # indice qui sert à parcourir l2\r\n",
        "    while i1 < n1 and i2 < n2 :\r\n",
        "        if l1[i1] < l2[i2]:\r\n",
        "            lst.append(l1[i1])\r\n",
        "            i1 = i1 + 1\r\n",
        "        else :\r\n",
        "            lst.append(l2[i2])\r\n",
        "            i2 = i2 + 1\r\n",
        "    if i1 == n1:\r\n",
        "        return lst + l2[i2:]\r\n",
        "    if i2 == n2:\r\n",
        "        return lst + l1[i1:]\r\n",
        "\r\n",
        "fusion([2, 3, 5, 8],[1, 4])   \r\n",
        "\r\n"
      ],
      "execution_count": null,
      "outputs": [
        {
          "output_type": "execute_result",
          "data": {
            "text/plain": [
              "[1, 2, 3, 4, 5, 8]"
            ]
          },
          "metadata": {
            "tags": []
          },
          "execution_count": 7
        }
      ]
    },
    {
      "cell_type": "code",
      "metadata": {
        "colab": {
          "base_uri": "https://localhost:8080/"
        },
        "id": "sjO8koRMgmPp",
        "outputId": "a91b07f4-acf5-48e6-c2dd-5f73bca7c216"
      },
      "source": [
        "def triFusion(lst):\r\n",
        "    \"\"\"\r\n",
        "    Précondition : lst est une liste\r\n",
        "    Postcondition : la fonction renvoie une liste qui est la liste triée\r\n",
        "\r\n",
        "    \"\"\"\r\n",
        "    n = len(lst)\r\n",
        "    if n <= 1:\r\n",
        "        return lst\r\n",
        "    else :\r\n",
        "        m = n//2\r\n",
        "        return fusion(triFusion(lst[:m]), triFusion(lst[m:])) \r\n",
        "\r\n",
        "tab = [4, 3, 8, 2, 7, 1, 5]\r\n",
        "\r\n",
        "print(triFusion(tab))\r\n",
        "print(tab)"
      ],
      "execution_count": null,
      "outputs": [
        {
          "output_type": "stream",
          "text": [
            "[1, 2, 3, 4, 5, 7, 8]\n",
            "[4, 3, 8, 2, 7, 1, 5]\n"
          ],
          "name": "stdout"
        }
      ]
    },
    {
      "cell_type": "code",
      "metadata": {
        "colab": {
          "base_uri": "https://localhost:8080/",
          "height": 265
        },
        "id": "h7wykyyeg-6R",
        "outputId": "7c6843ad-c9c3-43aa-92f2-ff7815b41bdd"
      },
      "source": [
        "import timeit\r\n",
        "import matplotlib.pyplot as plt\r\n",
        "from random import shuffle\r\n",
        "\r\n",
        "def tri_insertion(tab:list)->list:\r\n",
        "    \"\"\"\r\n",
        "    tab est de type liste\r\n",
        "    La fonction renvoie la liste triée par ordre croissant.\r\n",
        "    Elle utilise l'algorithme de tri par insertion. C'est un tri en place.\r\n",
        "    \"\"\"\r\n",
        "    for indice in range(len(tab)):\r\n",
        "        element = tab[indice]\r\n",
        "        i = indice\r\n",
        "        while i>0 and tab[i-1] > element:\r\n",
        "            tab[i] = tab[i-1]\r\n",
        "            i = i-1\r\n",
        "        tab[i] = element\r\n",
        "    return tab\r\n",
        "\r\n",
        "\r\n",
        "# différentes tailles de listes\r\n",
        "abscisse = [10, 100, 200, 500, 1000, 1500, 2000, 4000]\r\n",
        "\r\n",
        "ordonnee_insertion = [] # liste des temps par tri insertion\r\n",
        "ordonnee_fusion = [] # liste des temps par tri fusion\r\n",
        "\r\n",
        "# Création des listes non triées de tailles n\r\n",
        "for n in abscisse:\r\n",
        "    l = [n-i for i in range(n)] # création de la liste de taille n : [n ... 1]\r\n",
        "    # triée en ordre inverse : pire des cas pour le tri par insertion\r\n",
        "\r\n",
        "    # Création des listes d'ordonnées correspondantes pour chaque graphique\r\n",
        "    # Pour  le tri par insertion :\r\n",
        "    temps=timeit.timeit(\"tri_insertion(l)\", number=1000, globals=globals())\r\n",
        "    ordonnee_insertion.append(temps)\r\n",
        "\r\n",
        "    # Par tri fusion\r\n",
        "    # Attention, l a été triee par la fonction tri_insertion\r\n",
        "    shuffle(l) # mélange de cette liste\r\n",
        "    temps=timeit.timeit(\"triFusion(l)\", number=1000, globals=globals())\r\n",
        "    ordonnee_fusion.append(temps)\r\n",
        "\r\n",
        "# Graphique pour le tri insertion en rouge\r\n",
        "plt.plot(abscisse, ordonnee_insertion, \"ro-\") # en rouge\r\n",
        "\r\n",
        "# Graphique pour le tri fusion en bleu\r\n",
        "plt.plot(abscisse, ordonnee_fusion, \"bo-\") # en bleu\r\n",
        "\r\n",
        "plt.show()\r\n",
        "plt.close()"
      ],
      "execution_count": null,
      "outputs": [
        {
          "output_type": "display_data",
          "data": {
            "image/png": "[encoded data removed]",
            "text/plain": [
              "<Figure size 432x288 with 1 Axes>"
            ]
          },
          "metadata": {
            "tags": [],
            "needs_background": "light"
          }
        }
      ]
    },
    {
      "cell_type": "markdown",
      "metadata": {
        "id": "HqfY5y0DjP_V"
      },
      "source": [
        "Je me suis dit que cela venait peut-être des slices.  \r\n",
        "Version de M. CHENO sans slices"
      ]
    },
    {
      "cell_type": "code",
      "metadata": {
        "colab": {
          "base_uri": "https://localhost:8080/"
        },
        "id": "ZiA-2u56jZPZ",
        "outputId": "fab92d08-1ed8-4586-f392-7a0405a5a834"
      },
      "source": [
        "def partage(L):\r\n",
        "    '''prend une liste L et renvoie un couple de deux listes de taille identique (à l'unité près)\r\n",
        "    de sorte que leur réunion soit la liste L de départ'''\r\n",
        "    n = len(L)\r\n",
        "    if n < 2:\r\n",
        "        return L, []\r\n",
        "    else:\r\n",
        "        p = n // 2\r\n",
        "        q = n - p\r\n",
        "        L1, L2 = [0] * q, [0] * p\r\n",
        "        for i in range(n):\r\n",
        "            if i < q:\r\n",
        "                L1[i] = L[i]\r\n",
        "            else:\r\n",
        "                L2[i - q] = L[i]\r\n",
        "        return L1, L2\r\n",
        "\r\n",
        "\r\n",
        "def fusion(L1, L2):\r\n",
        "    '''réalise la fusion de deux listes triées, le résultat est une liste triée'''\r\n",
        "    n1, n2 = len(L1), len(L2)\r\n",
        "    n = n1 + n2\r\n",
        "    L = [0] * n\r\n",
        "    i, i1, i2 = 0, 0, 0\r\n",
        "    while i1 < n1 and i2 < n2:\r\n",
        "        if L1[i1] < L2[i2]:\r\n",
        "            L[i] = L1[i1]\r\n",
        "            i1 += 1\r\n",
        "        else:\r\n",
        "            L[i] = L2[i2]\r\n",
        "            i2 += 1\r\n",
        "        i += 1\r\n",
        "    # ici on a vidé l'une ou l'autre des deux listes\r\n",
        "    # s'il faut encore vider L1\r\n",
        "    while i1 < n1:\r\n",
        "        L[i] = L1[i1]\r\n",
        "        i1 += 1\r\n",
        "        i += 1\r\n",
        "    # s'il faut encore vider L2\r\n",
        "    while i2 < n2:\r\n",
        "        L[i] = L2[i2]\r\n",
        "        i2 += 1\r\n",
        "        i += 1\r\n",
        "    return L\r\n",
        "\r\n",
        "def tri(L):\r\n",
        "    if len(L) < 2:\r\n",
        "        return L\r\n",
        "    else:\r\n",
        "        L1, L2 = partage(L)\r\n",
        "        return fusion(tri(L1), tri(L2))\r\n",
        "\r\n",
        "tab = [4, 3, 8, 2, 7, 1, 5]\r\n",
        "print(tri(tab))\r\n",
        "print(tab)\r\n",
        "\r\n"
      ],
      "execution_count": null,
      "outputs": [
        {
          "output_type": "stream",
          "text": [
            "[1, 2, 3, 4, 5, 7, 8]\n",
            "[4, 3, 8, 2, 7, 1, 5]\n"
          ],
          "name": "stdout"
        }
      ]
    },
    {
      "cell_type": "code",
      "metadata": {
        "colab": {
          "base_uri": "https://localhost:8080/",
          "height": 265
        },
        "id": "lAbuC2Aih-Uw",
        "outputId": "e8cd4692-6e67-42aa-adab-800e827b3109"
      },
      "source": [
        "import timeit\r\n",
        "import matplotlib.pyplot as plt\r\n",
        "from random import shuffle\r\n",
        "\r\n",
        "def tri_insertion(tab:list)->list:\r\n",
        "    \"\"\"\r\n",
        "    tab est de type liste\r\n",
        "    La fonction renvoie la liste triée par ordre croissant.\r\n",
        "    Elle utilise l'algorithme de tri par insertion. C'est un tri en place.\r\n",
        "    \"\"\"\r\n",
        "    for indice in range(len(tab)):\r\n",
        "        element = tab[indice]\r\n",
        "        i = indice\r\n",
        "        while i>0 and tab[i-1] > element:\r\n",
        "            tab[i] = tab[i-1]\r\n",
        "            i = i-1\r\n",
        "        tab[i] = element\r\n",
        "    return tab\r\n",
        "\r\n",
        "\r\n",
        "# différentes tailles de listes\r\n",
        "abscisse = [10, 100, 200, 500, 1000, 1500, 2000, 4000]\r\n",
        "\r\n",
        "ordonnee_insertion = [] # liste des temps par tri insertion\r\n",
        "ordonnee_fusion = [] # liste des temps par tri fusion\r\n",
        "\r\n",
        "# Création des listes non triées de tailles n\r\n",
        "for n in abscisse:\r\n",
        "    l = [n-i for i in range(n)] # création de la liste de taille n : [n... 1]\r\n",
        "    # triée en ordre inverse : pire des cas pour le tri par insertion\r\n",
        "\r\n",
        "    # Création des listes d'ordonnées correspondantes pour chaque graphique\r\n",
        "    # Pour  le tri par insertion :\r\n",
        "    temps=timeit.timeit(\"tri_insertion(l)\", number=1000, globals=globals())\r\n",
        "    ordonnee_insertion.append(temps)\r\n",
        "\r\n",
        "    # Par tri fusion de M. CHENO\r\n",
        "    # Attention, l a été triee par la fonction tri_insertion\r\n",
        "    shuffle(l) # mélange de cette liste\r\n",
        "    temps=timeit.timeit(\"tri(l)\", number=1000, globals=globals())\r\n",
        "    ordonnee_fusion.append(temps)\r\n",
        "\r\n",
        "# Graphique pour le tri insertion en rouge\r\n",
        "plt.plot(abscisse, ordonnee_insertion, \"ro-\") # en rouge\r\n",
        "\r\n",
        "# Graphique pour le tri fusion en bleu\r\n",
        "plt.plot(abscisse, ordonnee_fusion, \"bo-\") # en bleu\r\n",
        "\r\n",
        "plt.show()\r\n",
        "plt.close()"
      ],
      "execution_count": null,
      "outputs": [
        {
          "output_type": "display_data",
          "data": {
            "image/png": "[encoded data removed]",
            "text/plain": [
              "<Figure size 432x288 with 1 Axes>"
            ]
          },
          "metadata": {
            "tags": [],
            "needs_background": "light"
          }
        }
      ]
    },
    {
      "cell_type": "markdown",
      "metadata": {
        "id": "GYGlFQN4kTUk"
      },
      "source": [
        "# 😥 Conclusion : C'est encore pire!"
      ]
    },
    {
      "cell_type": "markdown",
      "metadata": {
        "id": "tQ1UGhbLkiyq"
      },
      "source": [
        "Mireille Coilhac"
      ]
    },
    {
      "cell_type": "code",
      "metadata": {
        "id": "DCWNJMvCkaaD"
      },
      "source": [
        ""
      ],
      "execution_count": null,
      "outputs": []
    }
  ]
}